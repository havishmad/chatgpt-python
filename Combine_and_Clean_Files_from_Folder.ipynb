{
  "nbformat": 4,
  "nbformat_minor": 0,
  "metadata": {
    "colab": {
      "provenance": []
    },
    "kernelspec": {
      "name": "python3",
      "display_name": "Python 3"
    },
    "language_info": {
      "name": "python"
    }
  },
  "cells": [
    {
      "cell_type": "code",
      "execution_count": 2,
      "metadata": {
        "id": "TdUnt0hIhzMg"
      },
      "outputs": [],
      "source": [
        "import pandas as pd\n",
        "\n",
        "# Load historical sales data from Excel files\n",
        "df_2011 = pd.read_excel('2011.xlsx')\n",
        "df_2012 = pd.read_excel('2012.xlsx')\n",
        "df_2013 = pd.read_excel('2013.xlsx')\n",
        "sales_current = pd.read_excel('2014.xlsx')\n",
        "\n",
        "# Append historical sales data into a single DataFrame\n",
        "sales_historical = pd.concat([df_2011, df_2012, df_2013], ignore_index=True)\n",
        "\n",
        "# Combine parts of Order ID in current sales data\n",
        "sales_current['Order ID'] = sales_current['Order ID Part 1'].astype(str) + '-' + sales_current['Order ID Part 2'].astype(str) + '-' + sales_current['Order ID Part 3'].astype(str)\n",
        "sales_current.drop(['Order ID Part 1', 'Order ID Part 2', 'Order ID Part 3'], axis=1, inplace=True)\n",
        "\n",
        "# Split 'City State Country' into separate columns\n",
        "sales_current[['City', 'State', 'Country']] = sales_current['City State Country'].str.split(', ', expand=True)\n",
        "sales_current.drop('City State Country', axis=1, inplace=True)\n",
        "\n",
        "# Append current and historical sales data\n",
        "fact_sales = pd.concat([sales_historical, sales_current], ignore_index=True)\n",
        "\n",
        "# Add Order Priority column based on sales amount\n",
        "def assign_priority(sales):\n",
        "    if sales < 1000:\n",
        "        return \"Low\"\n",
        "    elif sales < 2500:\n",
        "        return \"Medium\"\n",
        "    elif sales < 5000:\n",
        "        return \"High\"\n",
        "    else:\n",
        "        return \"Critical\"\n",
        "fact_sales['Order Priority'] = fact_sales['Sales'].apply(assign_priority)\n",
        "\n",
        "# Load category data and adjust the format\n",
        "dim_category = pd.read_excel('Category.xlsx')\n",
        "dim_category['Category'] = dim_category['Category'].ffill()\n",
        "dim_category['Category'] = dim_category['Category'].str.title()\n",
        "dim_category['Sub-Category'] = dim_category['Sub-Category'].str.title()\n",
        "\n",
        "# Merge category data with sales data\n",
        "merged_data = pd.merge(fact_sales, dim_category, on='Sub-Category', how='left')\n",
        "\n",
        "# Load and process discount data\n",
        "dim_discount = pd.read_excel('Discount.xlsx', skiprows=3)\n",
        "dim_discount.columns = dim_discount.iloc[0]\n",
        "dim_discount = dim_discount.drop(dim_discount.index[0])\n",
        "dim_discount_melted = pd.melt(dim_discount, id_vars=['Order Priority'], var_name='Market', value_name='Discount')\n",
        "\n",
        "# Merge discount data with sales data\n",
        "final_merged_data = pd.merge(merged_data, dim_discount_melted, on=['Market', 'Order Priority'], how='left')\n",
        "\n",
        "# Save the final merged DataFrame to a CSV file\n",
        "final_merged_data.to_csv('Fact_Sales_With_Discounts.csv', index=False)\n"
      ]
    }
  ]
}